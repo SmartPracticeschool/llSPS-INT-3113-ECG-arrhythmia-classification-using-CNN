{
 "cells": [
  {
   "cell_type": "markdown",
   "metadata": {},
   "source": [
    "# DATA PREPROCESSING"
   ]
  },
  {
   "cell_type": "code",
   "execution_count": 52,
   "metadata": {},
   "outputs": [],
   "source": [
    "from tensorflow.keras.preprocessing.image import ImageDataGenerator"
   ]
  },
  {
   "cell_type": "code",
   "execution_count": 53,
   "metadata": {},
   "outputs": [],
   "source": [
    "train_datagen=ImageDataGenerator(rescale=1./255,shear_range=0.2,zoom_range=0.2,horizontal_flip=True)\n",
    "test_datagen= ImageDataGenerator(rescale=1./255)"
   ]
  },
  {
   "cell_type": "code",
   "execution_count": 54,
   "metadata": {},
   "outputs": [
    {
     "name": "stdout",
     "output_type": "stream",
     "text": [
      "Found 2600 images belonging to 5 classes.\n",
      "Found 650 images belonging to 5 classes.\n"
     ]
    }
   ],
   "source": [
    "x_train = train_datagen.flow_from_directory(r'C:\\Users\\saira\\Downloads\\ECG_Arrhythmia_Dataset\\ECG_Datasets\\Training_dataset',target_size = (64, 64),batch_size = 32,class_mode = 'categorical')\n",
    "x_test = test_datagen.flow_from_directory(r'C:\\Users\\saira\\Downloads\\ECG_Arrhythmia_Dataset\\ECG_Datasets\\Test_dataset',target_size = (64, 64),batch_size = 32,class_mode = 'categorical')"
   ]
  },
  {
   "cell_type": "code",
   "execution_count": 55,
   "metadata": {},
   "outputs": [
    {
     "data": {
      "text/plain": [
       "{'Fusion_beat': 0,\n",
       " 'Normal_beat': 1,\n",
       " 'Supraventricular_ectopic_beat': 2,\n",
       " 'Unknown_beat': 3,\n",
       " 'Ventricular_ectopic_beat': 4}"
      ]
     },
     "execution_count": 55,
     "metadata": {},
     "output_type": "execute_result"
    }
   ],
   "source": [
    "x_train.class_indices"
   ]
  },
  {
   "cell_type": "markdown",
   "metadata": {},
   "source": [
    "# MODEL BUILDING"
   ]
  },
  {
   "cell_type": "code",
   "execution_count": 5,
   "metadata": {},
   "outputs": [],
   "source": [
    "from keras.models import Sequential\n",
    "from keras.layers import Dense\n",
    "from keras.layers import Convolution2D\n",
    "from keras.layers import MaxPooling2D\n",
    "from keras.layers import Flatten"
   ]
  },
  {
   "cell_type": "code",
   "execution_count": 6,
   "metadata": {},
   "outputs": [],
   "source": [
    "model=Sequential()"
   ]
  },
  {
   "cell_type": "code",
   "execution_count": 7,
   "metadata": {},
   "outputs": [],
   "source": [
    "model.add(Convolution2D(48,(3,3),input_shape=(64,64,3),activation=\"relu\"))"
   ]
  },
  {
   "cell_type": "code",
   "execution_count": 8,
   "metadata": {},
   "outputs": [
    {
     "name": "stdout",
     "output_type": "stream",
     "text": [
      "WARNING:tensorflow:From C:\\Users\\saira\\Newfolder\\lib\\site-packages\\keras\\backend\\tensorflow_backend.py:4070: The name tf.nn.max_pool is deprecated. Please use tf.nn.max_pool2d instead.\n",
      "\n"
     ]
    }
   ],
   "source": [
    "model.add(MaxPooling2D(pool_size=(2,2)))"
   ]
  },
  {
   "cell_type": "code",
   "execution_count": 9,
   "metadata": {},
   "outputs": [],
   "source": [
    "model.add(Flatten())"
   ]
  },
  {
   "cell_type": "code",
   "execution_count": 10,
   "metadata": {},
   "outputs": [],
   "source": [
    "model.add(Dense(kernel_initializer=\"random_uniform\",activation=\"relu\",units=150))"
   ]
  },
  {
   "cell_type": "code",
   "execution_count": 11,
   "metadata": {},
   "outputs": [],
   "source": [
    "model.add(Dense(kernel_initializer=\"random_uniform\",activation=\"softmax\",units=5))"
   ]
  },
  {
   "cell_type": "code",
   "execution_count": 12,
   "metadata": {},
   "outputs": [],
   "source": [
    "model.compile(loss=\"categorical_crossentropy\",optimizer=\"adam\",metrics=[\"accuracy\"])"
   ]
  },
  {
   "cell_type": "code",
   "execution_count": 13,
   "metadata": {},
   "outputs": [
    {
     "name": "stdout",
     "output_type": "stream",
     "text": [
      "Model: \"sequential_1\"\n",
      "_________________________________________________________________\n",
      "Layer (type)                 Output Shape              Param #   \n",
      "=================================================================\n",
      "conv2d_1 (Conv2D)            (None, 62, 62, 48)        1344      \n",
      "_________________________________________________________________\n",
      "max_pooling2d_1 (MaxPooling2 (None, 31, 31, 48)        0         \n",
      "_________________________________________________________________\n",
      "flatten_1 (Flatten)          (None, 46128)             0         \n",
      "_________________________________________________________________\n",
      "dense_1 (Dense)              (None, 150)               6919350   \n",
      "_________________________________________________________________\n",
      "dense_2 (Dense)              (None, 5)                 755       \n",
      "=================================================================\n",
      "Total params: 6,921,449\n",
      "Trainable params: 6,921,449\n",
      "Non-trainable params: 0\n",
      "_________________________________________________________________\n"
     ]
    }
   ],
   "source": [
    "model.summary()"
   ]
  },
  {
   "cell_type": "code",
   "execution_count": 14,
   "metadata": {},
   "outputs": [
    {
     "name": "stdout",
     "output_type": "stream",
     "text": [
      "WARNING:tensorflow:From C:\\Users\\saira\\Newfolder\\lib\\site-packages\\keras\\backend\\tensorflow_backend.py:422: The name tf.global_variables is deprecated. Please use tf.compat.v1.global_variables instead.\n",
      "\n",
      "Epoch 1/12\n",
      "500/500 [==============================] - 92s 184ms/step - loss: 1.0261 - accuracy: 0.5920 - val_loss: 2.2800 - val_accuracy: 0.3400\n",
      "Epoch 2/12\n",
      "500/500 [==============================] - 99s 197ms/step - loss: 0.4528 - accuracy: 0.8437 - val_loss: 3.1406 - val_accuracy: 0.4169\n",
      "Epoch 3/12\n",
      "500/500 [==============================] - 94s 188ms/step - loss: 0.3444 - accuracy: 0.8856 - val_loss: 4.0933 - val_accuracy: 0.4154\n",
      "Epoch 4/12\n",
      "500/500 [==============================] - 93s 187ms/step - loss: 0.2832 - accuracy: 0.9033 - val_loss: 3.1259 - val_accuracy: 0.4246\n",
      "Epoch 5/12\n",
      "500/500 [==============================] - 98s 196ms/step - loss: 0.2345 - accuracy: 0.9219 - val_loss: 4.4734 - val_accuracy: 0.4123\n",
      "Epoch 6/12\n",
      "500/500 [==============================] - 99s 199ms/step - loss: 0.1906 - accuracy: 0.9358 - val_loss: 4.2991 - val_accuracy: 0.4015\n",
      "Epoch 7/12\n",
      "500/500 [==============================] - 101s 202ms/step - loss: 0.1558 - accuracy: 0.9472 - val_loss: 3.7096 - val_accuracy: 0.3969\n",
      "Epoch 8/12\n",
      "500/500 [==============================] - 102s 205ms/step - loss: 0.1315 - accuracy: 0.9562 - val_loss: 5.5766 - val_accuracy: 0.4246\n",
      "Epoch 9/12\n",
      "500/500 [==============================] - 97s 194ms/step - loss: 0.1099 - accuracy: 0.9636 - val_loss: 6.3132 - val_accuracy: 0.4077\n",
      "Epoch 10/12\n",
      "500/500 [==============================] - 98s 196ms/step - loss: 0.0879 - accuracy: 0.9716 - val_loss: 2.8179 - val_accuracy: 0.4200\n",
      "Epoch 11/12\n",
      "500/500 [==============================] - 97s 194ms/step - loss: 0.0864 - accuracy: 0.9733 - val_loss: 5.1877 - val_accuracy: 0.4200\n",
      "Epoch 12/12\n",
      "500/500 [==============================] - 97s 194ms/step - loss: 0.0690 - accuracy: 0.9783 - val_loss: 5.9000 - val_accuracy: 0.4292\n"
     ]
    },
    {
     "data": {
      "text/plain": [
       "<keras.callbacks.callbacks.History at 0x1b885d5a808>"
      ]
     },
     "execution_count": 14,
     "metadata": {},
     "output_type": "execute_result"
    }
   ],
   "source": [
    "model.fit_generator(x_train, steps_per_epoch=500, epochs=12,validation_data=x_test)"
   ]
  },
  {
   "cell_type": "code",
   "execution_count": 33,
   "metadata": {},
   "outputs": [],
   "source": [
    "model.save('ECG1.h5')"
   ]
  },
  {
   "cell_type": "markdown",
   "metadata": {},
   "source": [
    "# PREDICTION"
   ]
  },
  {
   "cell_type": "code",
   "execution_count": 34,
   "metadata": {},
   "outputs": [],
   "source": [
    "from keras.models import load_model\n",
    "import numpy as np"
   ]
  },
  {
   "cell_type": "code",
   "execution_count": 35,
   "metadata": {},
   "outputs": [],
   "source": [
    "model = load_model('ECG1.h5')\n",
    "model.compile(loss='categorical_crossentropy',optimizer='adam',metrics=['accuracy'])\n",
    "\n",
    "from skimage.transform import resize\n",
    "\n",
    "def detect(frame):\n",
    "    try:\n",
    "        beat_type=['Fusion beat','Normal beat','Supraventricular ectopic beat','unknown beat','Ventricular ectopic beat']\n",
    "        img = resize(frame,(64,64))\n",
    "        img = np.expand_dims(img,axis=0)\n",
    "        if(np.max(img)>1):\n",
    "            img = img/255.0\n",
    "        prediction = model.predict(img)\n",
    "        print(prediction)\n",
    "        prediction = model.predict_classes(img)\n",
    "        print(beat_type[prediction[0]])\n",
    "    except AttributeError:\n",
    "        print(\"shape not found\")"
   ]
  },
  {
   "cell_type": "code",
   "execution_count": 36,
   "metadata": {},
   "outputs": [],
   "source": [
    "import cv2\n",
    "path=r'C:\\Users\\saira\\Downloads\\ECG_Arrhythmia_Dataset\\ECG_Datasets\\Training_dataset\\Normal_beat\\fig_1.png'"
   ]
  },
  {
   "cell_type": "code",
   "execution_count": 37,
   "metadata": {},
   "outputs": [
    {
     "name": "stdout",
     "output_type": "stream",
     "text": [
      "[[4.2687338e-03 9.5976985e-01 3.5652630e-02 1.8997461e-04 1.1892650e-04]]\n",
      "Normal beat\n"
     ]
    }
   ],
   "source": [
    "frame=cv2.imread(r'C:\\Users\\saira\\Downloads\\ECG_Arrhythmia_Dataset\\ECG_Datasets\\Training_dataset\\Normal_beat\\fig_1.png')\n",
    "data=detect(frame)"
   ]
  },
  {
   "cell_type": "code",
   "execution_count": 38,
   "metadata": {},
   "outputs": [],
   "source": [
    "path=r'C:\\Users\\saira\\Downloads\\ECG_Arrhythmia_Dataset\\ECG_Datasets\\Training_dataset\\Fusion_beat\\Ffig_1.png'"
   ]
  },
  {
   "cell_type": "code",
   "execution_count": 39,
   "metadata": {},
   "outputs": [
    {
     "name": "stdout",
     "output_type": "stream",
     "text": [
      "[[9.6088248e-01 5.4822024e-04 3.3325743e-02 7.8596349e-06 5.2356790e-03]]\n",
      "Fusion beat\n"
     ]
    }
   ],
   "source": [
    "frame=cv2.imread(path)\n",
    "data=detect(frame)"
   ]
  },
  {
   "cell_type": "code",
   "execution_count": 40,
   "metadata": {},
   "outputs": [
    {
     "name": "stdout",
     "output_type": "stream",
     "text": [
      "[[2.3596624e-03 3.6680620e-04 7.8853351e-05 9.9694246e-01 2.5213513e-04]]\n",
      "unknown beat\n"
     ]
    }
   ],
   "source": [
    "path=r'C:\\Users\\saira\\OneDrive\\Desktop\\intership\\ECG_Datasets\\Training_dataset\\Unknown_beat\\ffig_31200001.png'\n",
    "data=detect(cv2.imread(path))"
   ]
  },
  {
   "cell_type": "code",
   "execution_count": 41,
   "metadata": {},
   "outputs": [
    {
     "name": "stdout",
     "output_type": "stream",
     "text": [
      "[[1.6034318e-02 6.0373060e-07 3.5131990e-04 9.8360044e-01 1.3263278e-05]]\n",
      "unknown beat\n"
     ]
    }
   ],
   "source": [
    "path=r'C:\\Users\\saira\\OneDrive\\Desktop\\intership\\ECG_Datasets\\Training_dataset\\Unknown_beat\\ffig_31200011.png'\n",
    "data=detect(cv2.imread(path))"
   ]
  },
  {
   "cell_type": "code",
   "execution_count": 42,
   "metadata": {},
   "outputs": [
    {
     "name": "stdout",
     "output_type": "stream",
     "text": [
      "[[1.9661039e-02 2.0973082e-05 7.7328958e-05 5.0255470e-02 9.2998523e-01]]\n",
      "Ventricular ectopic beat\n"
     ]
    }
   ],
   "source": [
    "path=r'C:\\Users\\saira\\OneDrive\\Desktop\\intership\\ECG_Datasets\\Training_dataset\\Ventricular_ectopic_beat\\Efig_93.png'\n",
    "data=detect(cv2.imread(path))"
   ]
  },
  {
   "cell_type": "code",
   "execution_count": 43,
   "metadata": {},
   "outputs": [
    {
     "name": "stdout",
     "output_type": "stream",
     "text": [
      "[[2.7690907e-03 1.1138022e-05 1.9808274e-05 5.1752822e-03 9.9202466e-01]]\n",
      "Ventricular ectopic beat\n"
     ]
    }
   ],
   "source": [
    "path=r'C:\\Users\\saira\\OneDrive\\Desktop\\intership\\ECG_Datasets\\Training_dataset\\Ventricular_ectopic_beat\\Efig_105.png'\n",
    "data=detect(cv2.imread(path))"
   ]
  },
  {
   "cell_type": "code",
   "execution_count": 44,
   "metadata": {},
   "outputs": [
    {
     "name": "stdout",
     "output_type": "stream",
     "text": [
      "[[0.06858845 0.26511472 0.63532966 0.01184977 0.01911746]]\n",
      "Supraventricular ectopic beat\n"
     ]
    }
   ],
   "source": [
    "path=r'C:\\Users\\saira\\OneDrive\\Desktop\\intership\\ECG_Datasets\\Training_dataset\\Supraventricular_ectopic_beat\\Afig_5.png'\n",
    "data=detect(cv2.imread(path))"
   ]
  },
  {
   "cell_type": "code",
   "execution_count": 45,
   "metadata": {},
   "outputs": [
    {
     "name": "stdout",
     "output_type": "stream",
     "text": [
      "[[2.47881771e-03 8.74465704e-01 1.22889765e-01 1.91033359e-05\n",
      "  1.46539867e-04]]\n",
      "Normal beat\n"
     ]
    }
   ],
   "source": [
    "path=r'C:\\Users\\saira\\OneDrive\\Desktop\\intership\\ECG_Datasets\\Training_dataset\\Supraventricular_ectopic_beat\\Afig_1.png'\n",
    "data=detect(cv2.imread(path))"
   ]
  },
  {
   "cell_type": "code",
   "execution_count": 46,
   "metadata": {},
   "outputs": [
    {
     "name": "stdout",
     "output_type": "stream",
     "text": [
      "[[9.9559832e-01 5.1753165e-07 5.7018191e-05 1.8754833e-04 4.1566365e-03]]\n",
      "Fusion beat\n"
     ]
    }
   ],
   "source": [
    "path=r'C:\\Users\\saira\\OneDrive\\Desktop\\intership\\ECG_Datasets\\Test_dataset\\Fusion_beat\\Ffig_652.png'\n",
    "data=detect(cv2.imread(path))"
   ]
  },
  {
   "cell_type": "code",
   "execution_count": 48,
   "metadata": {},
   "outputs": [
    {
     "name": "stdout",
     "output_type": "stream",
     "text": [
      "[[0.08758871 0.04773206 0.79840034 0.00197967 0.06429926]]\n",
      "Supraventricular ectopic beat\n"
     ]
    }
   ],
   "source": [
    "path=r'C:\\Users\\saira\\OneDrive\\Desktop\\intership\\ECG_Datasets\\Test_dataset\\Supraventricular_ectopic_beat\\Afig_2234.png'\n",
    "data=detect(cv2.imread(path))"
   ]
  },
  {
   "cell_type": "code",
   "execution_count": 50,
   "metadata": {},
   "outputs": [
    {
     "name": "stdout",
     "output_type": "stream",
     "text": [
      "[[6.1305072e-03 1.9345645e-04 3.0032868e-04 4.7417480e-01 5.1920092e-01]]\n",
      "Ventricular ectopic beat\n"
     ]
    }
   ],
   "source": [
    "path=r'C:\\Users\\saira\\OneDrive\\Desktop\\intership\\ECG_Datasets\\Test_dataset\\Ventricular_ectopic_beat\\Efig_60.png'\n",
    "data=detect(cv2.imread(path))"
   ]
  },
  {
   "cell_type": "code",
   "execution_count": null,
   "metadata": {},
   "outputs": [],
   "source": []
  }
 ],
 "metadata": {
  "kernelspec": {
   "display_name": "Python 3",
   "language": "python",
   "name": "python3"
  },
  "language_info": {
   "codemirror_mode": {
    "name": "ipython",
    "version": 3
   },
   "file_extension": ".py",
   "mimetype": "text/x-python",
   "name": "python",
   "nbconvert_exporter": "python",
   "pygments_lexer": "ipython3",
   "version": "3.7.6"
  }
 },
 "nbformat": 4,
 "nbformat_minor": 4
}
